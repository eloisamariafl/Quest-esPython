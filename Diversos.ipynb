{
  "nbformat": 4,
  "nbformat_minor": 0,
  "metadata": {
    "colab": {
      "provenance": [],
      "toc_visible": true,
      "authorship_tag": "ABX9TyPYf656g8S8232H00rRGJQ6",
      "include_colab_link": true
    },
    "kernelspec": {
      "name": "python3",
      "display_name": "Python 3"
    },
    "language_info": {
      "name": "python"
    }
  },
  "cells": [
    {
      "cell_type": "markdown",
      "metadata": {
        "id": "view-in-github",
        "colab_type": "text"
      },
      "source": [
        "<a href=\"https://colab.research.google.com/github/eloisamariafl/Quest-esPython/blob/main/Diversos.ipynb\" target=\"_parent\"><img src=\"https://colab.research.google.com/assets/colab-badge.svg\" alt=\"Open In Colab\"/></a>"
      ]
    },
    {
      "cell_type": "markdown",
      "source": [
        "# Questão 01"
      ],
      "metadata": {
        "id": "YjAh5N2Cr7iF"
      }
    },
    {
      "cell_type": "markdown",
      "source": [
        "1) Escreva a função ola que exiba a seguinte mensagem de boas-vindas na tela:\n",
        "“Olá, bem-vindo ao meu sistema.”"
      ],
      "metadata": {
        "id": "D0O306WHsDT-"
      }
    },
    {
      "cell_type": "code",
      "source": [
        "def boas_vindas():\n",
        "  return print\n",
        "\n",
        "print(\"Olá, bem-vindo ao meu sistema.\")"
      ],
      "metadata": {
        "colab": {
          "base_uri": "https://localhost:8080/"
        },
        "id": "qWDxvsDksGik",
        "outputId": "84d1dba2-4da3-4216-84a4-397aecd423fb"
      },
      "execution_count": null,
      "outputs": [
        {
          "output_type": "stream",
          "name": "stdout",
          "text": [
            "Olá, bem-vindo ao meu sistema.\n"
          ]
        }
      ]
    },
    {
      "cell_type": "markdown",
      "source": [
        "# Questão 02"
      ],
      "metadata": {
        "id": "aOVoOzYPtWAn"
      }
    },
    {
      "cell_type": "markdown",
      "source": [
        "2) Altere a função criada anteriormente para receber um parâmetro com o nome\n",
        "da pessoa. A mensagem deve exibir: “Olá, Godofredo! Bem-vindo ao meu\n",
        "sistema.”"
      ],
      "metadata": {
        "id": "47ErdOjVtaYO"
      }
    },
    {
      "cell_type": "code",
      "source": [
        "def boas_vindas(nome):\n",
        "  return print\n",
        "\n",
        "nome = \"Godofredo\"\n",
        "print(f\"Olá,\",nome,\". Bem-vindo ao meu sistema.\")\n"
      ],
      "metadata": {
        "colab": {
          "base_uri": "https://localhost:8080/"
        },
        "id": "2nWnaZHztfFT",
        "outputId": "bd7c23ad-1222-4297-eb89-25ee9d04ad15"
      },
      "execution_count": null,
      "outputs": [
        {
          "output_type": "stream",
          "name": "stdout",
          "text": [
            "Olá, Godofredo . Bem-vindo ao meu sistema.\n"
          ]
        }
      ]
    },
    {
      "cell_type": "markdown",
      "source": [
        "# Questão 03"
      ],
      "metadata": {
        "id": "8YTrHQkuuRWU"
      }
    },
    {
      "cell_type": "markdown",
      "source": [
        "3) Escreva uma função media que receba duas notas de um aluno e retorne a sua\n",
        "média aritmética."
      ],
      "metadata": {
        "id": "mYG1iddvuU7F"
      }
    },
    {
      "cell_type": "code",
      "source": [
        "def media(n1,n2):\n",
        "  return valor_media\n",
        "\n",
        "n1 = float(input(\"Informe a primeira nota:\"))\n",
        "n2 = float(input(\"Informe a segunda nota:\"))\n",
        "valor_media = (n1+n2)/2\n",
        "print(valor_media)"
      ],
      "metadata": {
        "colab": {
          "base_uri": "https://localhost:8080/"
        },
        "id": "hl9S2esguXi0",
        "outputId": "3ad9748d-57e5-4aa3-d487-653f7b201bbb"
      },
      "execution_count": null,
      "outputs": [
        {
          "output_type": "stream",
          "name": "stdout",
          "text": [
            "Informe a primeira nota:7\n",
            "Informe a segunda nota:6.5\n",
            "6.75\n"
          ]
        }
      ]
    },
    {
      "cell_type": "markdown",
      "source": [
        "# Questão 04"
      ],
      "metadata": {
        "id": "O-hRqyFfvdbf"
      }
    },
    {
      "cell_type": "markdown",
      "source": [
        "4) Crie uma calculadora, com funções para somar, multiplicar, dividir e subtrair."
      ],
      "metadata": {
        "id": "v0TpMBKhvj-9"
      }
    },
    {
      "cell_type": "code",
      "source": [
        "def somar(n1,n2):\n",
        "  return n1+n2\n",
        "\n",
        "def multiplicar(n1,n2):\n",
        "  return n1*n2\n",
        "\n",
        "def dividir(n1,n2):\n",
        "    return n1/n2\n",
        "\n",
        "def subtrair(n1,n2):\n",
        "  return n1-n2"
      ],
      "metadata": {
        "id": "g4VFbiMHvo1T"
      },
      "execution_count": null,
      "outputs": []
    },
    {
      "cell_type": "markdown",
      "source": [
        "#Questão 05"
      ],
      "metadata": {
        "id": "GEdTcDvbwXJD"
      }
    },
    {
      "cell_type": "markdown",
      "source": [
        "5) Crie uma função que receba o raio de um círculo e retorne a área do círculo.\n",
        "Solicite ao usuário o raio, chame a função e exiba o resultado. A = pi * r ** 2"
      ],
      "metadata": {
        "id": "WbgzbT9xwbxd"
      }
    },
    {
      "cell_type": "code",
      "source": [
        "def valor_area():\n",
        "  return area\n",
        "\n",
        "raio = float(input(\"Informe o valor do raio do círculo:\"))\n",
        "area = 3.14*(raio**2)\n",
        "print(area)"
      ],
      "metadata": {
        "colab": {
          "base_uri": "https://localhost:8080/"
        },
        "id": "L1tYzZMxwpVG",
        "outputId": "c04ad047-78f2-4d1f-bc72-aaaec1134598"
      },
      "execution_count": null,
      "outputs": [
        {
          "output_type": "stream",
          "name": "stdout",
          "text": [
            "Informe o valor do raio do círculo:2\n",
            "12.56\n"
          ]
        }
      ]
    },
    {
      "cell_type": "code",
      "source": [],
      "metadata": {
        "id": "6PqjAsHkyBzE"
      },
      "execution_count": null,
      "outputs": []
    },
    {
      "cell_type": "markdown",
      "source": [
        "# Questão 06"
      ],
      "metadata": {
        "id": "n32Cl6rJxWvb"
      }
    },
    {
      "cell_type": "markdown",
      "source": [
        "6) Escreva uma função comparar que receba dois números inteiros e retorne o\n",
        "menor número."
      ],
      "metadata": {
        "id": "oxQvHQPcxajd"
      }
    },
    {
      "cell_type": "code",
      "source": [
        "def comparar(n1,n2):\n",
        "  if n1 < n2:\n",
        "    return n1\n",
        "  else :\n",
        "    return n2\n",
        "\n",
        "n1 = int(input(\"Informe o primeiro número:\"))\n",
        "n2 = int(input(\"Informe o segundo número:\"))\n",
        "\n",
        "\n",
        "print(comparar(n1,n2))"
      ],
      "metadata": {
        "colab": {
          "base_uri": "https://localhost:8080/"
        },
        "id": "3-AFU9_fxdbM",
        "outputId": "7fbb8516-1242-4643-9b56-3c40e2f906d6"
      },
      "execution_count": null,
      "outputs": [
        {
          "output_type": "stream",
          "name": "stdout",
          "text": [
            "Informe o primeiro número:2\n",
            "Informe o segundo número:3\n",
            "2\n"
          ]
        }
      ]
    },
    {
      "cell_type": "markdown",
      "source": [
        "#Questão 07"
      ],
      "metadata": {
        "id": "VrCs1vjfz41s"
      }
    },
    {
      "cell_type": "markdown",
      "source": [
        "7) Crie uma função que receba um número entre 1 e 7, e retorne o nome do dia\n",
        "respectivo. Considere o domingo como o primeiro dia."
      ],
      "metadata": {
        "id": "6CVpEEQJz807"
      }
    },
    {
      "cell_type": "code",
      "source": [
        "def dia_semana(nm):\n",
        "  if nm == 1:\n",
        "    return \"Domingo\"\n",
        "  elif nm == 2:\n",
        "    return \"Segunda\"\n",
        "  elif nm == 3:\n",
        "    return \"Terça\"\n",
        "  elif nm == 4:\n",
        "    return \"Quarta\"\n",
        "  elif nm == 5:\n",
        "    return \"Quinta\"\n",
        "  elif nm == 6:\n",
        "    return \"Sexta\"\n",
        "  elif nm == 7:\n",
        "    return \"Sexta\"\n",
        "  else:\n",
        "    return \"Dia Inválido\"\n",
        "\n",
        "nm = int(input(\"Informe um número entre 1 e 7:\"))\n",
        "print(dia_semana(nm))"
      ],
      "metadata": {
        "colab": {
          "base_uri": "https://localhost:8080/"
        },
        "id": "SmYAlBotz9pL",
        "outputId": "309f0c6c-bc49-4b28-f109-6dc0bdb1b4d9"
      },
      "execution_count": null,
      "outputs": [
        {
          "output_type": "stream",
          "name": "stdout",
          "text": [
            "Informe um número entre 1 e 7:5\n",
            "Quinta\n"
          ]
        }
      ]
    },
    {
      "cell_type": "markdown",
      "source": [
        "# Questão 08"
      ],
      "metadata": {
        "id": "pN-tudaC1YCk"
      }
    },
    {
      "cell_type": "markdown",
      "source": [
        "8) Crie uma função que receba um valor em Celsius e retorne em Fahrenheit.\n",
        "Chame a função 20 vezes, passando como parâmetros os valores de 1 à 20, e\n",
        "exibindo os respectivos resultados. F = (9 * C + 160) / 5"
      ],
      "metadata": {
        "id": "xXqgOQaP1bie"
      }
    },
    {
      "cell_type": "code",
      "source": [
        "def transformar_celsius(i):\n",
        "  return fahrenheit\n",
        "\n",
        "for i in range(0,21,1):\n",
        "  print(f\"{i} graus em Celsius equivale { (9 * i + 160)/5} graus em fahrenheit\")"
      ],
      "metadata": {
        "colab": {
          "base_uri": "https://localhost:8080/"
        },
        "id": "R4KWX3Wp1eoF",
        "outputId": "72c2ec4e-1d3a-457c-b238-c36d5f637525"
      },
      "execution_count": null,
      "outputs": [
        {
          "output_type": "stream",
          "name": "stdout",
          "text": [
            "0 graus em Celsius equivale 32.0 graus em fahrenheit\n",
            "1 graus em Celsius equivale 33.8 graus em fahrenheit\n",
            "2 graus em Celsius equivale 35.6 graus em fahrenheit\n",
            "3 graus em Celsius equivale 37.4 graus em fahrenheit\n",
            "4 graus em Celsius equivale 39.2 graus em fahrenheit\n",
            "5 graus em Celsius equivale 41.0 graus em fahrenheit\n",
            "6 graus em Celsius equivale 42.8 graus em fahrenheit\n",
            "7 graus em Celsius equivale 44.6 graus em fahrenheit\n",
            "8 graus em Celsius equivale 46.4 graus em fahrenheit\n",
            "9 graus em Celsius equivale 48.2 graus em fahrenheit\n",
            "10 graus em Celsius equivale 50.0 graus em fahrenheit\n",
            "11 graus em Celsius equivale 51.8 graus em fahrenheit\n",
            "12 graus em Celsius equivale 53.6 graus em fahrenheit\n",
            "13 graus em Celsius equivale 55.4 graus em fahrenheit\n",
            "14 graus em Celsius equivale 57.2 graus em fahrenheit\n",
            "15 graus em Celsius equivale 59.0 graus em fahrenheit\n",
            "16 graus em Celsius equivale 60.8 graus em fahrenheit\n",
            "17 graus em Celsius equivale 62.6 graus em fahrenheit\n",
            "18 graus em Celsius equivale 64.4 graus em fahrenheit\n",
            "19 graus em Celsius equivale 66.2 graus em fahrenheit\n",
            "20 graus em Celsius equivale 68.0 graus em fahrenheit\n"
          ]
        }
      ]
    },
    {
      "cell_type": "markdown",
      "source": [
        "# Questão 09"
      ],
      "metadata": {
        "id": "pdObvm8F2dT6"
      }
    },
    {
      "cell_type": "markdown",
      "source": [
        "9) Crie uma função que recebe como parâmetros o login e a senha do usuário.\n",
        "Caso seja “fernanda” e 12345, retorne verdadeiro, caso contrário retorne falso."
      ],
      "metadata": {
        "id": "dfp9Kqaw2hJb"
      }
    },
    {
      "cell_type": "code",
      "source": [
        "def usuario(login,senha):\n",
        "  if login == \"fernanda\" and senha == 12345:\n",
        "    return \"verdadeiro\"\n",
        "  else:\n",
        "    return \"falso\"\n",
        "\n",
        "login = str(input(\"Informe o login:\"))\n",
        "senha = int(input(\"Informe a senha:\"))\n",
        "\n",
        "print(usuario(login,senha))\n",
        "\n"
      ],
      "metadata": {
        "colab": {
          "base_uri": "https://localhost:8080/"
        },
        "id": "atn8QEZL2jy0",
        "outputId": "3d732c00-a59d-4c45-8107-cd4d2aa37baf"
      },
      "execution_count": null,
      "outputs": [
        {
          "output_type": "stream",
          "name": "stdout",
          "text": [
            "Informe o login:fernanda\n",
            "Informe a senha:12345\n",
            "verdadeiro\n"
          ]
        }
      ]
    },
    {
      "cell_type": "markdown",
      "source": [
        "# Questão 10"
      ],
      "metadata": {
        "id": "OUCjmPJc4nMZ"
      }
    },
    {
      "cell_type": "markdown",
      "source": [
        "10) Crie uma função que receba duas notas, calcule a média e retorne se o\n",
        "aluno foi APROVADO (>= 6), REPROVADO (< 2) ou RECUPERAÇÃO."
      ],
      "metadata": {
        "id": "ybyJUIoM4ret"
      }
    },
    {
      "cell_type": "code",
      "source": [
        "def med(n1,n2):\n",
        "  if (n1+n2)/2 > 6:\n",
        "    return \"APROVADO\"\n",
        "  elif (n1+n2)/2 < 2:\n",
        "    return \"REPROVADO\"\n",
        "  else:\n",
        "    return \"RECUPERAÇÃO\"\n",
        "\n",
        "n1 = float(input(\"Informe a primeira nota:\"))\n",
        "n2 = float(input(\"Informe a segunda nota:\"))\n",
        "\n",
        "print(med(n1,n2))"
      ],
      "metadata": {
        "colab": {
          "base_uri": "https://localhost:8080/"
        },
        "id": "qga65hA54uIc",
        "outputId": "174b079e-d145-4b7f-a2a0-d019f7a2588c"
      },
      "execution_count": null,
      "outputs": [
        {
          "output_type": "stream",
          "name": "stdout",
          "text": [
            "Informe a primeira nota:5\n",
            "Informe a segunda nota:10\n",
            "APROVADO\n"
          ]
        }
      ]
    },
    {
      "cell_type": "markdown",
      "source": [
        "# Questão 11"
      ],
      "metadata": {
        "id": "-_02-eBV58L8"
      }
    },
    {
      "cell_type": "markdown",
      "source": [
        "11) Crie uma função que recebe a idade de um eleitor, e retorna a sua classe\n",
        "eleitoral:\n",
        "• não-eleitor (abaixo de 16 anos)\n",
        "• eleitor obrigatório (a partir de 18 até 65 anos).\n",
        "• eleitor facultativo (16 e 17 anos / maior que 65 anos)."
      ],
      "metadata": {
        "id": "JCqnxqY25_ZJ"
      }
    },
    {
      "cell_type": "code",
      "source": [
        "def classe_eleitoral(id):\n",
        "  if id < 16:\n",
        "    return \"Não-eleitor\"\n",
        "  elif id > 18 and id < 65:\n",
        "    return \"Eleitor obrigatório\"\n",
        "  else:\n",
        "    return \"Eleitor facultativo\"\n",
        "\n",
        "id = int(input(\"Informe a sua idade:\"))\n",
        "print(classe_eleitoral(id))"
      ],
      "metadata": {
        "colab": {
          "base_uri": "https://localhost:8080/"
        },
        "id": "WRpEbJr26C28",
        "outputId": "222d4914-87be-4fe1-a3d7-764c5d190363"
      },
      "execution_count": null,
      "outputs": [
        {
          "output_type": "stream",
          "name": "stdout",
          "text": [
            "Informe a sua idade:15\n",
            "Não-eleitor\n"
          ]
        }
      ]
    },
    {
      "cell_type": "markdown",
      "source": [
        "# Questão 12"
      ],
      "metadata": {
        "id": "7WQBUjYB7RPs"
      }
    },
    {
      "cell_type": "markdown",
      "source": [
        "12) Crie uma função que receba o peso e a altura de uma pessoa, e retorna\n",
        "em qual classificação ela está, de acordo com o cálculo do IMC:"
      ],
      "metadata": {
        "id": "HaGLIq2W7XxO"
      }
    },
    {
      "cell_type": "code",
      "source": [
        "def classificação(imc):\n",
        "  if imc < 18.6:\n",
        "    return \"Abaixo do peso\"\n",
        "  elif imc > 18.6 and imc < 24.9:\n",
        "    return \"peso ideal - PARABÉNS\"\n",
        "  elif imc > 25 and imc < 29.9:\n",
        "    return \"Levemente acima do peso:\"\n",
        "  elif imc > 30 and imc < 34.9:\n",
        "    return \"Obesidade grau I\"\n",
        "  elif imc > 35 and imc < 39.9:\n",
        "    return \"Obesidade grau II - severa\"\n",
        "  else:\n",
        "    return \"Obesidade grau III - mórbida\"\n",
        "\n",
        "peso = float(input(\"Informe seu peso:\"))\n",
        "altura = float(input(\"Informe sua altura:\"))\n",
        "imc = peso/altura\n",
        "\n",
        "print(classificação(imc))\n"
      ],
      "metadata": {
        "colab": {
          "base_uri": "https://localhost:8080/"
        },
        "id": "aBq3Oodk7gUW",
        "outputId": "1455e4f8-40ea-4e36-f5d7-d3e54f56693a"
      },
      "execution_count": null,
      "outputs": [
        {
          "output_type": "stream",
          "name": "stdout",
          "text": [
            "Informe seu peso:53\n",
            "Informe sua altura:1.53\n",
            "Obesidade grau I\n"
          ]
        }
      ]
    },
    {
      "cell_type": "markdown",
      "source": [
        "# Questão 13"
      ],
      "metadata": {
        "id": "2_Bxq901-AGr"
      }
    },
    {
      "cell_type": "markdown",
      "source": [
        "13) Crie uma função que receba como parâmetro o consumo de energia em\n",
        "kw e retorne o valor a ser pago, que varia de acordo com as faixas de consumo\n",
        "abaixo:\n",
        "• 1a faixa: Até 10kw – R$ 5 por kw\n",
        "• 2a faixa: Acima de 10kw até 30kw – R$ 7 por kw\n",
        "• 3a faixa: Acima de 30kw – R$ 10 por kw"
      ],
      "metadata": {
        "id": "2oQexyjM-Dzj"
      }
    },
    {
      "cell_type": "code",
      "source": [
        "def consumo_energia(kw):\n",
        "  if kw < 10:\n",
        "    return kw*5\n",
        "  elif kw > 10 and kw < 30:\n",
        "    return 10 * 5 + (kw - 10) * 7\n",
        "  else:\n",
        "    return 10 * 5 + 20 * 7 + (kw - 30) * 10\n",
        "\n",
        "kw = float(input(\"Informe o consumo de energia em kw:\"))\n",
        "print(consumo_energia(kw))\n"
      ],
      "metadata": {
        "colab": {
          "base_uri": "https://localhost:8080/"
        },
        "id": "51Dp8Vro-GFE",
        "outputId": "54d569a4-e00f-45c4-e665-087e3e527afd"
      },
      "execution_count": null,
      "outputs": [
        {
          "output_type": "stream",
          "name": "stdout",
          "text": [
            "Informe o consumo de energia em kw:5\n",
            "25.0\n"
          ]
        }
      ]
    },
    {
      "cell_type": "markdown",
      "source": [
        "# Questão 14"
      ],
      "metadata": {
        "id": "YiSMu9ffCUkL"
      }
    },
    {
      "cell_type": "markdown",
      "source": [
        "14) Faça uma função que converta da notação de 24 horas para a notação de\n",
        "12 horas, recebendo as horas e minutos como parâmetros, e retornando uma\n",
        "string. Por exemplo, com 14, 25 e deve retornar 2:25 P.M"
      ],
      "metadata": {
        "id": "NMr0MLPhCYh7"
      }
    },
    {
      "cell_type": "code",
      "source": [
        "def converte_hora(hora, minuto):\n",
        "    if hora >= 12:\n",
        "        sufixo = \"P.M.\"\n",
        "        if hora > 12:\n",
        "            hora -= 12\n",
        "    else:\n",
        "        sufixo = \"A.M.\"\n",
        "        if hora == 0:\n",
        "            hora = 12\n",
        "    return print(f\"{hora}:{minuto} {sufixo}\")\n",
        "\n",
        "hora = int(input(\"Informe a hora:\"))\n",
        "minuto = int(input(\"Informe o minuto:\"))\n",
        "print(converte_hora(hora,minuto))"
      ],
      "metadata": {
        "id": "w0bSvjUUCbN6",
        "colab": {
          "base_uri": "https://localhost:8080/"
        },
        "outputId": "f38447ca-6add-4ad9-866e-5fdd6683d1f5"
      },
      "execution_count": null,
      "outputs": [
        {
          "output_type": "stream",
          "name": "stdout",
          "text": [
            "Informe a hora:16\n",
            "Informe o minuto:44\n",
            "4:44 P.M.\n",
            "None\n"
          ]
        }
      ]
    },
    {
      "cell_type": "markdown",
      "source": [
        "#Questão 15"
      ],
      "metadata": {
        "id": "vac578tr_qwe"
      }
    },
    {
      "cell_type": "markdown",
      "source": [
        "15) Crie a sua própria função len (tamanho), que recebe um vetor como\n",
        "parâmetro e retorna o seu tamanho. Não utilize a função len."
      ],
      "metadata": {
        "id": "DArXNJ_J_w6_"
      }
    },
    {
      "cell_type": "code",
      "source": [
        "def tamanho(vetor):\n",
        "  contador = 0\n",
        "  for elementos in vetor:\n",
        "    contador +=1\n",
        "  return contador\n",
        "\n",
        "lista = [1,2,3,4,5]\n",
        "print(tamanho(lista))\n",
        "\n"
      ],
      "metadata": {
        "colab": {
          "base_uri": "https://localhost:8080/"
        },
        "id": "nEKPGl9y_5Wz",
        "outputId": "8fb93c5e-6279-4ba4-85fd-06090ea1eab7"
      },
      "execution_count": null,
      "outputs": [
        {
          "output_type": "stream",
          "name": "stdout",
          "text": [
            "5\n"
          ]
        }
      ]
    },
    {
      "cell_type": "markdown",
      "source": [
        "# Questão 16"
      ],
      "metadata": {
        "id": "8Ym6BnuJBPzI"
      }
    },
    {
      "cell_type": "markdown",
      "source": [
        "16) Crie a sua própria função sum (soma), que recebe um vetor de números\n",
        "como parâmetro e retorna a soma deles. Não utilize a função sum."
      ],
      "metadata": {
        "id": "BTk1Vl99BUHp"
      }
    },
    {
      "cell_type": "code",
      "source": [
        "def somar(vetor):\n",
        "  valor_total = 0\n",
        "  for num in vetor:\n",
        "    valor_total += num\n",
        "  return valor_total\n",
        "\n",
        "lista = [1,2,3,4,5]\n",
        "print(somar(lista))\n"
      ],
      "metadata": {
        "colab": {
          "base_uri": "https://localhost:8080/"
        },
        "id": "KpwHk5W9BZCd",
        "outputId": "ebf37bac-10e8-466e-b3dc-2402c1c1183c"
      },
      "execution_count": null,
      "outputs": [
        {
          "output_type": "stream",
          "name": "stdout",
          "text": [
            "15\n"
          ]
        }
      ]
    },
    {
      "cell_type": "markdown",
      "source": [
        "# Questão 17"
      ],
      "metadata": {
        "id": "OZRpheNCCLpK"
      }
    },
    {
      "cell_type": "markdown",
      "source": [
        "17) Crie uma função que receba um vetor de números como parâmetro e\n",
        "retorne a média dos números. Não utilize as funções sum e len."
      ],
      "metadata": {
        "id": "qpVi0MhcCQFa"
      }
    },
    {
      "cell_type": "code",
      "source": [
        "def media(vetor):\n",
        "  total_media = 0\n",
        "  contador = 0\n",
        "  for num in vetor:\n",
        "    total_media += num\n",
        "    contador +=1\n",
        "    return total_media/contador\n",
        "\n",
        "lista = [1,2,3,4,5]\n",
        "print(media(lista))"
      ],
      "metadata": {
        "colab": {
          "base_uri": "https://localhost:8080/"
        },
        "id": "KPLIwyv6CYnd",
        "outputId": "a1b25ecc-7a9f-4941-c023-9bc078456b4a"
      },
      "execution_count": null,
      "outputs": [
        {
          "output_type": "stream",
          "name": "stdout",
          "text": [
            "1.0\n"
          ]
        }
      ]
    },
    {
      "cell_type": "markdown",
      "source": [
        "# Questão 18"
      ],
      "metadata": {
        "id": "TEH0So35Dups"
      }
    },
    {
      "cell_type": "markdown",
      "source": [
        "18) Crie a sua própria função min (minimo), que recebe um vetor de números\n",
        "como parâmetro e retorna o menor número. Não utilize a função min."
      ],
      "metadata": {
        "id": "YaThzPZdD0DN"
      }
    },
    {
      "cell_type": "code",
      "source": [
        "from ast import Num\n",
        "def minimo(vetor):\n",
        "  min_num = vetor[0]\n",
        "  for num in vetor:\n",
        "    if num < min_num:\n",
        "      min_num = num\n",
        "  return min_num\n",
        "\n",
        "lista = [1,2,3,4,5]\n",
        "print(minimo(lista))\n"
      ],
      "metadata": {
        "colab": {
          "base_uri": "https://localhost:8080/"
        },
        "id": "XNC-FxDHD6qX",
        "outputId": "dc1f011e-ce3d-4b83-dad1-70346cb7a9ff"
      },
      "execution_count": null,
      "outputs": [
        {
          "output_type": "stream",
          "name": "stdout",
          "text": [
            "1\n"
          ]
        }
      ]
    },
    {
      "cell_type": "markdown",
      "source": [
        "# Questão 19"
      ],
      "metadata": {
        "id": "BDa1bABaFBBz"
      }
    },
    {
      "cell_type": "markdown",
      "source": [
        "19) Escreva uma função multiplicar, que recebe dois números e retorna a\n",
        "multiplicação entre eles. Não utilize o operador de multiplicação."
      ],
      "metadata": {
        "id": "DPKL3ReVFFCO"
      }
    },
    {
      "cell_type": "code",
      "source": [
        "def multiplicar(n1,n2):\n",
        "  resultado = 0\n",
        "  while n2 > 0:\n",
        "      if n2 % 2 == 1:\n",
        "          resultado += n1\n",
        "      n1 <<= 1\n",
        "      n2 >>= 1\n",
        "  return resultado\n",
        "\n",
        "n1 = int(input(\"Informe um número:\"))\n",
        "n2 = int(input(\"Informe outro outro número:\"))\n",
        "print(multiplicar(n1,n2))"
      ],
      "metadata": {
        "colab": {
          "base_uri": "https://localhost:8080/"
        },
        "id": "g3XKRsENFaQR",
        "outputId": "0da5d5cd-24c1-4ddc-8dcb-67be4fd56b7b"
      },
      "execution_count": null,
      "outputs": [
        {
          "output_type": "stream",
          "name": "stdout",
          "text": [
            "Informe um número:4\n",
            "Informe outro outro número:4\n",
            "16\n"
          ]
        }
      ]
    },
    {
      "cell_type": "markdown",
      "source": [
        "#Questão 20"
      ],
      "metadata": {
        "id": "0f-MtpTyGiAb"
      }
    },
    {
      "cell_type": "markdown",
      "source": [
        "20) Escreva uma função potencia, que recebe a base e o expoente como\n",
        "parâmetros, e que quando chamada, retorna baseexpoente. Assuma que\n",
        "expoente é um inteiro maior ou igual a 1. Não utilize ** nem a função pow."
      ],
      "metadata": {
        "id": "MHDb1rZiGlzf"
      }
    },
    {
      "cell_type": "code",
      "source": [
        "def potencia(base,expoente):\n",
        "  baseexpoente >= 1\n",
        "  for _ in range(expoente):\n",
        "      baseexpoente = multiplicar(baseexpoente, base)\n",
        "  return baseexpoente\n",
        "\n",
        "base = int(input(\"Informe o valor da base:\"))\n",
        "expoente = int(input(\"Informe o valor do expoente:\"))\n",
        "print(potencia(base,expoente))"
      ],
      "metadata": {
        "colab": {
          "base_uri": "https://localhost:8080/"
        },
        "id": "3Fjx8VZ4GvVf",
        "outputId": "6c7b4004-169e-4832-9839-f58b555b9c4f"
      },
      "execution_count": null,
      "outputs": [
        {
          "output_type": "stream",
          "name": "stdout",
          "text": [
            "Informe o valor da base:6\n",
            "Informe o valor do expoente:9\n",
            "10077696\n"
          ]
        }
      ]
    }
  ]
}