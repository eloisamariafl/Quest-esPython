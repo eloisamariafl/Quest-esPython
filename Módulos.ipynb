{
  "cells": [
    {
      "cell_type": "markdown",
      "metadata": {
        "id": "view-in-github",
        "colab_type": "text"
      },
      "source": [
        "<a href=\"https://colab.research.google.com/github/eloisamariafl/Quest-esPython/blob/main/M%C3%B3dulos.ipynb\" target=\"_parent\"><img src=\"https://colab.research.google.com/assets/colab-badge.svg\" alt=\"Open In Colab\"/></a>"
      ]
    },
    {
      "cell_type": "code",
      "execution_count": null,
      "metadata": {
        "id": "v_MfaDk2MzMY"
      },
      "outputs": [],
      "source": [
        "from google.colab import drive\n",
        "drive.mount('/content/drive')\n",
        "\n"
      ]
    },
    {
      "cell_type": "code",
      "execution_count": null,
      "metadata": {
        "id": "0w9rnYw9RfqY"
      },
      "outputs": [],
      "source": [
        "import sys\n",
        "sys.path.append('/content/drive/My Drive/Colab Notebooks')"
      ]
    },
    {
      "cell_type": "markdown",
      "metadata": {
        "id": "9Yy_3ZaoRqAq"
      },
      "source": [
        "# Questão 01"
      ]
    },
    {
      "cell_type": "markdown",
      "metadata": {
        "id": "Nn-7UL6sRuVP"
      },
      "source": [
        "1. Crie um módulo chamado “calc” que realize as 4 operações básicas da\n",
        "matemática (somar, subtrair, multiplicar, dividir). Teste o seu módulo."
      ]
    },
    {
      "cell_type": "code",
      "execution_count": null,
      "metadata": {
        "id": "EdPmB_35Qn_o"
      },
      "outputs": [],
      "source": [
        "import calc\n",
        "\n",
        "n1 = float(input(\"Informe o primeiro número:\"))\n",
        "n2 = float(input(\"Informe o segundo número:\"))\n",
        "\n",
        "print(f\"Soma:{calc.somar(n1,n2)}\")\n",
        "print(f\"Subtração:{calc.subtrair(n1,n2)}\")\n",
        "print(f\"Divisão:{calc.dividir(n1,n2)}\")\n",
        "print(f\"Multiplicação:{calc.multiplicar(n1,n2)}\")"
      ]
    },
    {
      "cell_type": "markdown",
      "metadata": {
        "id": "nY-37VzvR52r"
      },
      "source": [
        "# Questão 02"
      ]
    },
    {
      "cell_type": "markdown",
      "metadata": {
        "id": "1iVlnKvWR9tD"
      },
      "source": [
        "2. Crie um módulo chamado\n",
        "“areas”, que disponibilize\n",
        "funções para calcular a área das\n",
        "figuras planas (retângulo, círculo,\n",
        "triângulo, losango e trapézio).\n",
        "Teste-as em outro arquivo,\n",
        "importando o módulo criado."
      ]
    },
    {
      "cell_type": "code",
      "execution_count": null,
      "metadata": {
        "id": "5jl27EtlSEGI"
      },
      "outputs": [],
      "source": [
        "#calculando_areas\n",
        "\n",
        "print(\"Calculando áreas\")\n",
        "\n",
        "print(\"Calculando área do triângulo:\")\n",
        "\n",
        "def triangulo(b,h):\n",
        "  return (b*h)/2\n",
        "\n",
        "b = float(input(\"Informe a Base:\"))\n",
        "h = float(input(\"Informe a Altura:\"))\n",
        "print(f\"Área do triângulo:{triangulo(b,h)}\")\n",
        "\n",
        "print(\"Calculando área do retângulo:\")\n",
        "\n",
        "def retangulo(b,h):\n",
        "  return b*h\n",
        "\n",
        "b = float(input(\"Informe a Base:\"))\n",
        "h = float(input(\"Informe a Altura:\"))\n",
        "print(f\"Área do retângulo:{retangulo(b,h)}\")\n",
        "\n",
        "print(\"Calculando área do quadrado:\")\n",
        "\n",
        "def quadrado(l):\n",
        "  return l*l\n",
        "\n",
        "l = float(input(\"Informe o Lado:\"))\n",
        "print(f\"Área do quadrado:{quadrado(l)}\")\n",
        "\n",
        "print(\"Calculando área do trapézio:\")\n",
        "\n",
        "def trapezio(B,b,h):\n",
        "  return ((B+b)*h)/2\n",
        "\n",
        "B = float(input(\"Informe a Base maior:\"))\n",
        "b = float(input(\"Informe a Base Menor:\"))\n",
        "h = float(input(\"Informe a Altura:\"))\n",
        "print(f\"Área do trapézio:{trapezio(B,b,h)}\")\n",
        "\n",
        "print(\"Calculando área do losango:\")\n",
        "\n",
        "def losango(D,d):\n",
        "  return (D*d)/2\n",
        "\n",
        "D = float(input(\"Informe a Diagonal maior:\"))\n",
        "d = float(input(\"Informe a Diagonal menor:\"))\n",
        "print(f\"Área do losango:{losango(D,d)}\")\n",
        "\n",
        "print(\"Calculando área do circulo:\")\n",
        "\n",
        "def circulo(r):\n",
        "  return 3.14*(r**2)\n",
        "\n",
        "r = float(input(\"Informe o Raio:\"))\n",
        "print(f\"Área do circulo:{circulo(r)}\")\n"
      ]
    },
    {
      "cell_type": "markdown",
      "metadata": {
        "id": "Drp4OLKekjxf"
      },
      "source": [
        "# Questão 03"
      ]
    },
    {
      "cell_type": "markdown",
      "metadata": {
        "id": "2XA_cYZNaQQx"
      },
      "source": [
        "3. Crie um módulo chamado “volumes”, que disponibilize funções para\n",
        "calcular o volume do: cubo, paralelepípedo, cilindro, esfera, cone e pirâmide\n",
        "(base quadrada). Crie um arquivo, importe o módulo e teste as funções."
      ]
    },
    {
      "cell_type": "code",
      "execution_count": null,
      "metadata": {
        "id": "coFeygzqaVfj"
      },
      "outputs": [],
      "source": [
        "#calculando volume\n",
        "\n",
        "print(\"Calculando volumes:\")\n",
        "\n",
        "print(\"Calculando volume do Cubo:\")\n",
        "\n",
        "def cubo(a):\n",
        "  return a**3\n",
        "\n",
        "a = float(input(\"Informe a área:\"))\n",
        "print(f\"Volume do triângulo:{cubo(a)}\")\n",
        "\n",
        "print(\"Calculando volume do paralelepipedo:\")\n",
        "\n",
        "def paralelepipedo(c,l,a):\n",
        "  return c*l*a\n",
        "\n",
        "c = float(inplut(\"Informe o comprimento:\"))\n",
        "l = float(input(\"Informe a largura:\"))\n",
        "a = float(input(\"Informe a área:\"))\n",
        "print(f\"Volume do paralelepipedo:{paralelepipedo(c,l,a)}\")\n",
        "\n",
        "print(\"Calculando volume do cilindro:\")\n",
        "\n",
        "def cilindro(r,h):\n",
        "  return 3.14*(r**2)*h\n",
        "\n",
        "r = float(input(\"Informe o raio:\"))\n",
        "h = float(input(\"Informe a altura:\"))\n",
        "print(f\"Volume do cilindro:{cilindro(r,h)}\")\n",
        "\n",
        "print(\"Calculando volume da esfera:\")\n",
        "\n",
        "def esfera(r):\n",
        "  return (4/3)*3.14*(r**3)\n",
        "\n",
        "r = float(input(\"Informe o raio:\"))\n",
        "print(f\"Volume da esfera:{esfera(r)}\")\n",
        "\n",
        "print(\"Calculando volume do cone:\")\n",
        "\n",
        "def cone(r,h):\n",
        "  return (1/3)*3.14*(r**2)*h\n",
        "\n",
        "r = float(input(\"Informe o raio:\"))\n",
        "h = float(input(\"Informe a altura:\"))\n",
        "print(f\"Volume do cone:{cone(r,h)}\")\n",
        "\n",
        "print(\"Calculando volume da pirâmide:\")\n",
        "\n",
        "def piramide(l,h):\n",
        "  return (1/3)*(l**2)*h\n",
        "\n",
        "l = float(input(\"Informe o lado:\"))\n",
        "h = float(input(\"Informe a altura:\"))\n",
        "print(f\"Volume pirâmide:{piramide(l,h)}\")"
      ]
    },
    {
      "cell_type": "markdown",
      "metadata": {
        "id": "o_VhOUj9kpS-"
      },
      "source": [
        "# Questão 04"
      ]
    },
    {
      "cell_type": "markdown",
      "metadata": {
        "id": "eQcUJDgoktBR"
      },
      "source": [
        "4. Crie um módulo chamado “unidade”, que disponibilize funções para\n",
        "converter unidades. Pesquise e faça as funções que converta, e teste-as:\n",
        "1. Fahrenheit para Celsius\n",
        "2. Libras para Quilos\n",
        "3. Polegadas para Centímetros\n",
        "4. Milhas para Quilômetros\n",
        "5. km/h para m/s\n",
        "6. Pés para Metros"
      ]
    },
    {
      "cell_type": "code",
      "execution_count": null,
      "metadata": {
        "colab": {
          "base_uri": "https://localhost:8080/"
        },
        "id": "k8c97c45k0Op",
        "outputId": "5d102a4d-ec13-4e53-895f-b5806fb18860"
      },
      "outputs": [
        {
          "name": "stdout",
          "output_type": "stream",
          "text": [
            "Informe o valor em fahrenheit:6\n",
            "6 graus em fahrenheit equivale 42.8 graus em celsius\n"
          ]
        }
      ],
      "source": [
        "#Fahrenheit para Celsius\n",
        "\n",
        "def transformar_celsius(f):\n",
        "  return fahrenheit\n",
        "\n",
        "f = int(input(\"Informe o valor em fahrenheit:\"))\n",
        "print(f\"{f} graus em fahrenheit equivale { (9 * c + 160)/5} graus em celsius\")"
      ]
    },
    {
      "cell_type": "code",
      "execution_count": null,
      "metadata": {
        "colab": {
          "base_uri": "https://localhost:8080/"
        },
        "id": "D8fSW4lTmbaY",
        "outputId": "148ce54c-eb70-4e5f-b8bf-f45137712949"
      },
      "outputs": [
        {
          "name": "stdout",
          "output_type": "stream",
          "text": [
            "Informe o valor em quilo:4\n",
            "4.0 em quilo equivale (8.0, 20) em libras\n"
          ]
        }
      ],
      "source": [
        "#Libras para Quilos\n",
        "\n",
        "def Libras_Quilos(l):\n",
        "  return quilos\n",
        "\n",
        "l = float(input(\"Informe o valor em quilo:\"))\n",
        "print(f\"{l} em quilo equivale {(l*2,20)} em libras\")"
      ]
    },
    {
      "cell_type": "code",
      "execution_count": null,
      "metadata": {
        "colab": {
          "base_uri": "https://localhost:8080/"
        },
        "id": "_YprapWKoEso",
        "outputId": "47ab8b47-f555-4a33-dd82-cfec2a40c968"
      },
      "outputs": [
        {
          "name": "stdout",
          "output_type": "stream",
          "text": [
            "Informe o número de polegadas:6\n",
            "6 em polegadas equivale a 15.24 em centimetros\n"
          ]
        }
      ],
      "source": [
        "#Polegadas para Centímetros\n",
        "\n",
        "def Polegadas_Centímetros(p):\n",
        "  return centimetros\n",
        "\n",
        "p = int(input(\"Informe o número de polegadas:\"))\n",
        "print(f\"{p} em polegadas equivale a {(p*2.54)} em centimetros\")"
      ]
    },
    {
      "cell_type": "code",
      "execution_count": null,
      "metadata": {
        "colab": {
          "base_uri": "https://localhost:8080/"
        },
        "id": "qkGauVn2o5mw",
        "outputId": "fc77f228-1a93-4c8d-9952-b5ae816b5e08"
      },
      "outputs": [
        {
          "name": "stdout",
          "output_type": "stream",
          "text": [
            "Informe o valor em milhas:45\n",
            "45.0 em milhas equivale a 72.0 em quilômetros\n"
          ]
        }
      ],
      "source": [
        "#Milhas para Quilômetros\n",
        "\n",
        "def Milhas_Quilômetros(m):\n",
        "  return quilometros\n",
        "\n",
        "m = float(input(\"Informe o valor em milhas:\"))\n",
        "print(f\"{m} em milhas equivale a {(m*1.60)} em quilômetros\")"
      ]
    },
    {
      "cell_type": "code",
      "execution_count": null,
      "metadata": {
        "colab": {
          "base_uri": "https://localhost:8080/"
        },
        "id": "p_AWIlA3psKw",
        "outputId": "3df454ea-67a4-4e3f-a4e0-d12caff92d4a"
      },
      "outputs": [
        {
          "name": "stdout",
          "output_type": "stream",
          "text": [
            "Informe o valor em Km:1\n",
            "1.0 em km/h equivale a 0.2777777777777778 em m/s\n"
          ]
        }
      ],
      "source": [
        "#km/h para m/s\n",
        "\n",
        "def km_m(q):\n",
        "  return metros\n",
        "\n",
        "q = float(input(\"Informe o valor em Km:\"))\n",
        "print(f\"{q} em km/h equivale a {(q/3.6)} em m/s\")\n"
      ]
    },
    {
      "cell_type": "code",
      "execution_count": null,
      "metadata": {
        "colab": {
          "base_uri": "https://localhost:8080/"
        },
        "id": "tIB0unT4qkNx",
        "outputId": "6c8e2d00-698c-4f92-f814-bb8f65106f8b"
      },
      "outputs": [
        {
          "name": "stdout",
          "output_type": "stream",
          "text": [
            "Informe o número em pés:4\n",
            "4 em pés equivale a 1.2192 em metros\n"
          ]
        }
      ],
      "source": [
        "#Pés para Metros\n",
        "\n",
        "def Pés_Metros(p):\n",
        "  return metros\n",
        "\n",
        "p = int(input(\"Informe o número em pés:\"))\n",
        "print(f\"{p} em pés equivale a {(p*0.3048)} em metros\")"
      ]
    },
    {
      "cell_type": "markdown",
      "metadata": {
        "id": "4DIcYTFIAq2M"
      },
      "source": [
        "# Questão 05\n"
      ]
    },
    {
      "cell_type": "markdown",
      "metadata": {
        "id": "Ini_olckAx9V"
      },
      "source": [
        "5. Crie um módulo “banco”, que possua um saldo zero e as seguintes funções:\n",
        "1. Depositar – Recebe o valor para depósito e adiciona ao saldo;\n",
        "2. Sacar – Recebe o valor para saque como parâmetro e retorna\n",
        "verdadeiro, caso consiga sacar, ou falso, em caso de não sacar;\n",
        "3. Saldo – Retorna o valor do saldo\n",
        "No arquivo main crie um sistema de menu com as opções acima, utilizando\n",
        "as funções do módulo banco."
      ]
    },
    {
      "cell_type": "code",
      "execution_count": null,
      "metadata": {
        "id": "mnPXWFGx_EoZ"
      },
      "outputs": [],
      "source": [
        "#banco\n",
        "\n",
        "def main():\n",
        "    saldo = 0\n",
        "\n",
        "    while True:\n",
        "        print(\"1. Depositar\")\n",
        "        print(\"2. Sacar\")\n",
        "        print(\"3. Saldo\")\n",
        "        print(\"4. Sair\")\n",
        "\n",
        "        saldo = 0\n",
        "        opcao = float(input(\"Escolha uma opção: \"))\n",
        "\n",
        "        if opcao == 1:\n",
        "            deposito = float(input(\"Digite o valor a ser depositado: \"))\n",
        "            print(f\"Depósito de R${deposito} realizado com sucesso.\")\n",
        "\n",
        "            saldo+= deposito\n",
        "\n",
        "        elif opcao == 2:\n",
        "            saque = float(input(\"Digite o valor a ser sacado: \"))\n",
        "\n",
        "            if deposito >= saldo:\n",
        "                print(f\"Saque de R${saque} realizado com sucesso.\")\n",
        "\n",
        "            else:\n",
        "                print(\"Saldo insuficiente.\")\n",
        "\n",
        "        elif opcao == 3:\n",
        "            print(f\"Saldo atual: R${novosaldo - saque}\")\n",
        "\n",
        "        elif opcao == 4:\n",
        "            return\n",
        "\n",
        "        else:\n",
        "            print(\"Opção inválida.\")\n",
        "\n",
        "\n",
        "\n"
      ]
    },
    {
      "cell_type": "markdown",
      "metadata": {
        "id": "ZAO_1NzfLSws"
      },
      "source": [
        "# Quetão 06"
      ]
    },
    {
      "cell_type": "markdown",
      "metadata": {
        "id": "Ba4InNL-KKOh"
      },
      "source": [
        "6. Crie um módulo chamado “vetor”, que disponibilize as seguintes funções\n",
        "que irão receber um vetor no parâmetro e:\n",
        "1. exibir: Imprime os elementos em linhas separadas;\n",
        "2. exibirNumerado: Imprime os elementos com uma ordem numérica ao\n",
        "lado, em linhas separadas;\n",
        "3. soma: Retorna a soma dos elementos do vetor;\n",
        "4. tamanho: Retorna o tamanho do vetor;\n",
        "5. media: Retorna a média dos elementos (números) do vetor."
      ]
    },
    {
      "cell_type": "code",
      "execution_count": null,
      "metadata": {
        "id": "sSmnl0peLIhr"
      },
      "outputs": [],
      "source": [
        "#vetor\n",
        "\n",
        "def exibir(vetor):\n",
        "    for elemento in vetor:\n",
        "        print(elemento)\n",
        "\n",
        "def exibirNumerado(vetor):\n",
        "    for i, elemento in enumerate(vetor):\n",
        "        print(f\"{i+1}. {elemento}\")\n",
        "\n",
        "def soma(vetor):\n",
        "    return sum(vetor)\n",
        "\n",
        "def tamanho(vetor):\n",
        "    return len(vetor)\n",
        "\n",
        "def media(vetor):\n",
        "    return sum(vetor) / len(vetor)\n"
      ]
    },
    {
      "cell_type": "markdown",
      "metadata": {
        "id": "sYTlJ9CiLgFn"
      },
      "source": [
        "# Quetão 07"
      ]
    },
    {
      "cell_type": "markdown",
      "metadata": {
        "id": "NxRiMK55Ljf4"
      },
      "source": [
        "7. Crie um módulo chamado “escola”, que disponibilize funções para:\n",
        "1. Receber o nome de um aluno e sua nota, e guardar as informações em\n",
        "vetores (um vetor para os nomes, outro para as notas)\n",
        "2. Receber o nome de um aluno cadastrado e retornar a sua nota\n",
        "3. Retornar o nome do aluno com a maior nota cadastrada\n",
        "4. Exibir a média geral dos alunos cadastrados\n",
        "5. Imprimir a relação completa dos alunos cadastrados e suas notas\n",
        "No arquivo main crie um sistema de menu com as opções acima, utilizando\n",
        "as funções do módulo escola."
      ]
    },
    {
      "cell_type": "code",
      "execution_count": null,
      "metadata": {
        "colab": {
          "base_uri": "https://localhost:8080/"
        },
        "id": "RFRlzn0aLnWr",
        "outputId": "3db6e3b3-e1b7-4eb9-9c6d-07c92d0ee4fe"
      },
      "outputs": [
        {
          "name": "stdout",
          "output_type": "stream",
          "text": [
            "Escola Menu:\n",
            "1. Cadastrar aluno\n",
            "2. Retornar nota\n",
            "3. Retornar aluno com maior nota\n",
            "4. Exibir média geral\n",
            "5. Exibir relação completa\n",
            "6. Sair\n",
            "Digite uma opção: 1\n",
            "Digite o nome do aluno: eloisa\n",
            "Digite a nota do aluno: 10\n",
            "Escola Menu:\n",
            "1. Cadastrar aluno\n",
            "2. Retornar nota\n",
            "3. Retornar aluno com maior nota\n",
            "4. Exibir média geral\n",
            "5. Exibir relação completa\n",
            "6. Sair\n",
            "Digite uma opção: 1\n",
            "Digite o nome do aluno: lucas\n",
            "Digite a nota do aluno: 10\n",
            "Escola Menu:\n",
            "1. Cadastrar aluno\n",
            "2. Retornar nota\n",
            "3. Retornar aluno com maior nota\n",
            "4. Exibir média geral\n",
            "5. Exibir relação completa\n",
            "6. Sair\n",
            "Digite uma opção: 1\n",
            "Digite o nome do aluno: junior\n",
            "Digite a nota do aluno: 9\n",
            "Escola Menu:\n",
            "1. Cadastrar aluno\n",
            "2. Retornar nota\n",
            "3. Retornar aluno com maior nota\n",
            "4. Exibir média geral\n",
            "5. Exibir relação completa\n",
            "6. Sair\n",
            "Digite uma opção: 2\n",
            "Digite o nome do aluno: lucas\n",
            "A nota de lucas é 10.0\n",
            "Escola Menu:\n",
            "1. Cadastrar aluno\n",
            "2. Retornar nota\n",
            "3. Retornar aluno com maior nota\n",
            "4. Exibir média geral\n",
            "5. Exibir relação completa\n",
            "6. Sair\n",
            "Digite uma opção: 3\n",
            "O aluno com a maior nota é eloisa com nota 10.0\n",
            "Escola Menu:\n",
            "1. Cadastrar aluno\n",
            "2. Retornar nota\n",
            "3. Retornar aluno com maior nota\n",
            "4. Exibir média geral\n",
            "5. Exibir relação completa\n",
            "6. Sair\n",
            "Digite uma opção: 4\n",
            "A média da turma é:9.666666666666666\n",
            "Escola Menu:\n",
            "1. Cadastrar aluno\n",
            "2. Retornar nota\n",
            "3. Retornar aluno com maior nota\n",
            "4. Exibir média geral\n",
            "5. Exibir relação completa\n",
            "6. Sair\n",
            "Digite uma opção: 5\n",
            "Aluno: eloisa, Nota: 10.0\n",
            "Aluno: lucas, Nota: 10.0\n",
            "Aluno: junior, Nota: 9.0\n",
            "Escola Menu:\n",
            "1. Cadastrar aluno\n",
            "2. Retornar nota\n",
            "3. Retornar aluno com maior nota\n",
            "4. Exibir média geral\n",
            "5. Exibir relação completa\n",
            "6. Sair\n",
            "Digite uma opção: 6\n"
          ]
        }
      ],
      "source": [
        "alunos = []\n",
        "notas = []\n",
        "\n",
        "while True:\n",
        "    print(\"Escola Menu:\")\n",
        "    print(\"1. Cadastrar aluno\")\n",
        "    print(\"2. Retornar nota\")\n",
        "    print(\"3. Retornar aluno com maior nota\")\n",
        "    print(\"4. Exibir média geral\")\n",
        "    print(\"5. Exibir relação completa\")\n",
        "    print(\"6. Sair\")\n",
        "\n",
        "    opcao = int(input(\"Digite uma opção: \"))\n",
        "\n",
        "    if opcao == 1:\n",
        "        nome = str(input(\"Digite o nome do aluno: \"))\n",
        "        nota = float(input(\"Digite a nota do aluno: \"))\n",
        "        alunos.append(nome)\n",
        "        notas.append(nota)\n",
        "\n",
        "    elif opcao == 2:\n",
        "        a = 0\n",
        "        nome = input(\"Digite o nome do aluno: \")\n",
        "\n",
        "        for i in alunos:\n",
        "            if alunos[a] == nome:\n",
        "                nota = notas[a]\n",
        "                print(f\"A nota de {nome} é {nota}\")\n",
        "                break\n",
        "            else:\n",
        "                a += 1\n",
        "\n",
        "    elif opcao == 3:\n",
        "        maior_nota = max(notas)\n",
        "        indice_maior_nota = notas.index(maior_nota)\n",
        "        aluno_maior_nota = alunos[indice_maior_nota]\n",
        "        print(f\"O aluno com a maior nota é {aluno_maior_nota} com nota {maior_nota}\")\n",
        "\n",
        "    elif opcao == 4 :\n",
        "        media = sum(notas)/len(notas)\n",
        "        print(f\"A média da turma é:{media}\")\n",
        "\n",
        "    elif opcao == 5 :\n",
        "        for i in range(len(alunos)):\n",
        "            print(f\"Aluno: {alunos[i]}, Nota: {notas[i]}\")\n",
        "\n",
        "    elif opcao == 6 :\n",
        "      break\n"
      ]
    }
  ],
  "metadata": {
    "colab": {
      "toc_visible": true,
      "provenance": [],
      "authorship_tag": "ABX9TyOzh+ZJMMg/zz3EVhv3P9pH",
      "include_colab_link": true
    },
    "kernelspec": {
      "display_name": "Python 3",
      "name": "python3"
    },
    "language_info": {
      "name": "python"
    }
  },
  "nbformat": 4,
  "nbformat_minor": 0
}