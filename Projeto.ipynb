{
  "cells": [
    {
      "cell_type": "markdown",
      "metadata": {
        "id": "view-in-github",
        "colab_type": "text"
      },
      "source": [
        "<a href=\"https://colab.research.google.com/github/eloisamariafl/Quest-esPython/blob/main/Projeto.ipynb\" target=\"_parent\"><img src=\"https://colab.research.google.com/assets/colab-badge.svg\" alt=\"Open In Colab\"/></a>"
      ]
    },
    {
      "cell_type": "markdown",
      "metadata": {
        "id": "9eMKwl2SGqAy"
      },
      "source": [
        "# Sistema acadêmico"
      ]
    },
    {
      "cell_type": "markdown",
      "metadata": {
        "id": "mDFBQa2sGx86"
      },
      "source": [
        "Desenvolva um sistema para um cadastro de alunos, que deve repetir o seguinte menu até que a opção 0 seja escolhida:\n",
        "1. Cadastrar aluno - Solicitar nome, matrícula e média do aluno\n",
        "2. Exibir dados de um aluno - Solicitar a matrícula de um aluno, e exibir o seu nome e sua média\n",
        "3. Relatório de alunos - Exibir todos os dados de todos os alunos (matrícula, nome e média)\n",
        "4. Exibir média geral - Exibir a média geral da turma\n",
        "5. Exibir aluno laureado - Exibir o nome do aluno com maior média da turma\n",
        "0. Sair"
      ]
    },
    {
      "cell_type": "code",
      "execution_count": null,
      "metadata": {
        "id": "rVMAnRU7GzXO",
        "colab": {
          "base_uri": "https://localhost:8080/"
        },
        "outputId": "a81f157d-8797-47d2-dd32-05b60875cffc",
        "collapsed": true
      },
      "outputs": [
        {
          "output_type": "stream",
          "name": "stdout",
          "text": [
            "MENU:\n",
            "1. Cadastrar aluno\n",
            "2. Exibir dados de um aluno\n",
            "3. Relatório de alunos\n",
            "4. Exibir média geral - Exibir a média geral da turma\n",
            "5. Exibir aluno laureado \n",
            "0. Sair\n",
            "Escolha umas das opções:1\n",
            "Digite o nome do aluno:Eloisa\n",
            "Digite a matricula:0239\n",
            "Digite a média do aluno:9\n",
            "Salvando as informações do aluno...\n",
            "MENU:\n",
            "1. Cadastrar aluno\n",
            "2. Exibir dados de um aluno\n",
            "3. Relatório de alunos\n",
            "4. Exibir média geral - Exibir a média geral da turma\n",
            "5. Exibir aluno laureado \n",
            "0. Sair\n",
            "Escolha umas das opções:1\n",
            "Digite o nome do aluno:Junior\n",
            "Digite a matricula:0417\n",
            "Digite a média do aluno:9\n",
            "Salvando as informações do aluno...\n",
            "MENU:\n",
            "1. Cadastrar aluno\n",
            "2. Exibir dados de um aluno\n",
            "3. Relatório de alunos\n",
            "4. Exibir média geral - Exibir a média geral da turma\n",
            "5. Exibir aluno laureado \n",
            "0. Sair\n",
            "Escolha umas das opções:1\n",
            "Digite o nome do aluno:Rafael\n",
            "Digite a matricula:123\n",
            "Digite a média do aluno:10\n",
            "Salvando as informações do aluno...\n",
            "MENU:\n",
            "1. Cadastrar aluno\n",
            "2. Exibir dados de um aluno\n",
            "3. Relatório de alunos\n",
            "4. Exibir média geral - Exibir a média geral da turma\n",
            "5. Exibir aluno laureado \n",
            "0. Sair\n",
            "Escolha umas das opções:2\n",
            "Digite a matricula do aluno:0239\n",
            "Nome: Eloisa\n",
            "Média: 9\n",
            "MENU:\n",
            "1. Cadastrar aluno\n",
            "2. Exibir dados de um aluno\n",
            "3. Relatório de alunos\n",
            "4. Exibir média geral - Exibir a média geral da turma\n",
            "5. Exibir aluno laureado \n",
            "0. Sair\n",
            "Escolha umas das opções:3\n",
            "Nome: Eloisa\n",
            "Matricula: 239 \n",
            "Média: 9\n",
            "\n",
            "Nome: Junior\n",
            "Matricula: 417 \n",
            "Média: 9\n",
            "\n",
            "Nome: Rafael\n",
            "Matricula: 123 \n",
            "Média: 10\n",
            "\n",
            "MENU:\n",
            "1. Cadastrar aluno\n",
            "2. Exibir dados de um aluno\n",
            "3. Relatório de alunos\n",
            "4. Exibir média geral - Exibir a média geral da turma\n",
            "5. Exibir aluno laureado \n",
            "0. Sair\n",
            "Escolha umas das opções:4\n",
            "Média da turma:9.33 \n",
            "MENU:\n",
            "1. Cadastrar aluno\n",
            "2. Exibir dados de um aluno\n",
            "3. Relatório de alunos\n",
            "4. Exibir média geral - Exibir a média geral da turma\n",
            "5. Exibir aluno laureado \n",
            "0. Sair\n",
            "Escolha umas das opções:5\n",
            "Aluno LAUREADO: Rafael\n",
            "MENU:\n",
            "1. Cadastrar aluno\n",
            "2. Exibir dados de um aluno\n",
            "3. Relatório de alunos\n",
            "4. Exibir média geral - Exibir a média geral da turma\n",
            "5. Exibir aluno laureado \n",
            "0. Sair\n",
            "Escolha umas das opções:0\n",
            "Programa Finalizado!\n"
          ]
        }
      ],
      "source": [
        "totalalunos = 0\n",
        "listanotas = []\n",
        "matriz = []\n",
        "menu = ()\n",
        "\n",
        "import time\n",
        "\n",
        "while menu != 0 :\n",
        "\n",
        "  print(\"MENU:\")\n",
        "  print('1. Cadastrar aluno')\n",
        "  print('2. Exibir dados de um aluno')\n",
        "  print('3. Relatório de alunos')\n",
        "  print('4. Exibir média geral - Exibir a média geral da turma')\n",
        "  print('5. Exibir aluno laureado ')\n",
        "  print('0. Sair')\n",
        "  menu = int(input(\"Escolha umas das opções:\"))\n",
        "\n",
        "  if menu == 1:\n",
        "    for i in range(1):\n",
        "      vetor=[]\n",
        "      nome = str(input(\"Digite o nome do aluno:\"))\n",
        "      matricula = int(input(\"Digite a matricula:\"))\n",
        "      media = int(input(\"Digite a média do aluno:\"))\n",
        "      print(\"Salvando as informações do aluno\", end=\"\", flush=True)\n",
        "      for t in range(3):\n",
        "        time.sleep(1)\n",
        "        print(\".\", end=\"\", flush=True)\n",
        "      print()\n",
        "      vetor.append(nome)\n",
        "      vetor.append(matricula)\n",
        "      vetor.append(media)\n",
        "      listanotas.append(media)\n",
        "      totalalunos+=1\n",
        "    matriz.append(vetor)\n",
        "\n",
        "  elif menu == 2:\n",
        "    matricula = float(input(\"Digite a matricula do aluno:\"))\n",
        "\n",
        "    for aluno in matriz:\n",
        "      if matricula == aluno[1]:\n",
        "          print(f\"Nome: {aluno[0]}\")\n",
        "          print(f\"Média: {aluno[2]}\")\n",
        "          break\n",
        "\n",
        "  elif menu == 3:\n",
        "    for linha in range(len(matriz)):\n",
        "        print(f\"Nome: {matriz[linha][0]}\")\n",
        "        print(f\"Matricula: {matriz[linha][1]} \")\n",
        "        print(f\"Média: {matriz[linha][2]}\")\n",
        "        print()\n",
        "\n",
        "  elif menu == 4:\n",
        "    xmed= sum(listanotas)/totalalunos\n",
        "    print(f\"Média da turma:{round(xmed,2)} \")\n",
        "\n",
        "  elif menu == 5:\n",
        "    laureado = max(listanotas)\n",
        "    for aluno in matriz:\n",
        "      if laureado == aluno[2]:\n",
        "          print(f\"Aluno LAUREADO: {aluno[0]}\")\n",
        "\n",
        "  elif menu == 0:\n",
        "    print(\"Programa Finalizado!\")\n",
        "\n",
        "    break\n"
      ]
    },
    {
      "cell_type": "code",
      "source": [],
      "metadata": {
        "id": "OjqbSJyyluvT"
      },
      "execution_count": null,
      "outputs": []
    }
  ],
  "metadata": {
    "colab": {
      "toc_visible": true,
      "provenance": [],
      "authorship_tag": "ABX9TyMRUZuI4DWSK6CWqzdXKVzY",
      "include_colab_link": true
    },
    "kernelspec": {
      "display_name": "Python 3",
      "name": "python3"
    },
    "language_info": {
      "name": "python"
    }
  },
  "nbformat": 4,
  "nbformat_minor": 0
}