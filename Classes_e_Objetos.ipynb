{
  "nbformat": 4,
  "nbformat_minor": 0,
  "metadata": {
    "colab": {
      "provenance": [],
      "toc_visible": true,
      "authorship_tag": "ABX9TyPYxI3SvHvC+n0Wnd/IlxaD",
      "include_colab_link": true
    },
    "kernelspec": {
      "name": "python3",
      "display_name": "Python 3"
    },
    "language_info": {
      "name": "python"
    }
  },
  "cells": [
    {
      "cell_type": "markdown",
      "metadata": {
        "id": "view-in-github",
        "colab_type": "text"
      },
      "source": [
        "<a href=\"https://colab.research.google.com/github/eloisamariafl/Quest-esPython/blob/main/Classes_e_Objetos.ipynb\" target=\"_parent\"><img src=\"https://colab.research.google.com/assets/colab-badge.svg\" alt=\"Open In Colab\"/></a>"
      ]
    },
    {
      "cell_type": "markdown",
      "source": [
        "# Questão 01"
      ],
      "metadata": {
        "id": "kTJqVYAIZQgn"
      }
    },
    {
      "cell_type": "markdown",
      "source": [
        "Crie uma classe para representar um carro. Um carro possui os seguintes\n",
        "atributos: cor, marca e modelo.\n",
        "a. Crie um objeto da Classe Carro.\n",
        "b. Altere a marca do objeto para Ferrari.\n",
        "c. Imprima para o usuário o modelo do objeto."
      ],
      "metadata": {
        "id": "edPmhx_pZ6wQ"
      }
    },
    {
      "cell_type": "code",
      "source": [
        "class carro:\n",
        "  def __init__(self,cor,marca,modelo):\n",
        "    self.cor = cor\n",
        "    self.marca = marca\n",
        "    self.modelo = modelo\n",
        "\n",
        "c1 = carro(\"Prata\",\"Jeep\",\"Qualquer\")\n",
        "c1.marca = \"Ferrari\"\n",
        "print(c1.modelo)"
      ],
      "metadata": {
        "colab": {
          "base_uri": "https://localhost:8080/"
        },
        "id": "ZlHM7vfCZ-6n",
        "outputId": "d93a2b01-c5f9-443a-cea7-f6385c85176e"
      },
      "execution_count": null,
      "outputs": [
        {
          "output_type": "stream",
          "name": "stdout",
          "text": [
            "Qualquer\n"
          ]
        }
      ]
    },
    {
      "cell_type": "markdown",
      "source": [
        "# Questão 02"
      ],
      "metadata": {
        "id": "S8AAfxaVdBGe"
      }
    },
    {
      "cell_type": "markdown",
      "source": [
        "Crie uma classe chamada Circulo, que possui cor e raio como atributos. Crie os\n",
        "métodos area (πr2) e perimetro (2πr), que retornam os valores respectivos.\n",
        "Crie um arquivo main, que importe a classe Circulo, e teste os métodos."
      ],
      "metadata": {
        "id": "YThyj0K_dEdn"
      }
    },
    {
      "cell_type": "code",
      "source": [
        "#Circulo.py\n",
        "\n",
        "class Circulo:\n",
        "  def _init_(self,cor,raio):\n",
        "    self.cor = Cor\n",
        "    self.raio = Raio\n",
        "\n",
        "  def area(self):\n",
        "    return 3.14*(self.raio**2)\n",
        "\n",
        "  def perimetro(self):\n",
        "    return 2*3.14*(self.raio)\n",
        "\n",
        "#main.py\n",
        "\n",
        "from Circulo import Circulo\n",
        "\n",
        "c1 = Circulo(\"Azul\",2)\n",
        "c2 = Circulo(\"Cinza\",3)\n",
        "\n",
        "print(c1.area())\n",
        "print(c2.perimetro())"
      ],
      "metadata": {
        "id": "4TyuKvz9dQI4"
      },
      "execution_count": null,
      "outputs": []
    },
    {
      "cell_type": "markdown",
      "source": [
        "#Questão 03"
      ],
      "metadata": {
        "id": "wjZE1EFfjb0-"
      }
    },
    {
      "cell_type": "markdown",
      "source": [
        "Crie um arquivo chamado “Funcionario.py” com a classe Funcionário, que\n",
        "possua as seguintes características: nome, salário e cargo. Crie um arquivo\n",
        "chamado “main.py”, e nele crie dois objetos da classe Funcionário, com as\n",
        "informações:\n",
        "Nome: Rafael Nome: Maria\n",
        "Salário: 1000 Salário: 7000\n",
        "Cargo: Professor Cargo: Programadora\n",
        "a. Altere o salário do objeto de Rafael para 1500.\n",
        "b. Exiba os salários dos objetos criados.\n",
        "c. Adicione o método salarioAjustado à classe Funcionario, que irá retornar\n",
        "o salário atual do funcionário, acrescido de 10%. Execute o método\n",
        "salarioAjustado do funcionário Rafael."
      ],
      "metadata": {
        "id": "_fCfANOVjfCG"
      }
    },
    {
      "cell_type": "code",
      "source": [
        "#Funcionario.py\n",
        "\n",
        "class Funcionario:\n",
        "  def __init__(self,nome,salario,cargo):\n",
        "    self.nome = nome\n",
        "    self.salario = salario\n",
        "    self.cargo = cargo\n",
        "\n",
        "  def salarioajustado(self):\n",
        "    return (self.salario*10)/100 + self.salario\n",
        "\n",
        "\n",
        "#main.py\n",
        "\n",
        "from Funcionario import Funcionario\n",
        "\n",
        "p1 = Funcionario(\"Rafael\",1000,\"Professor\")\n",
        "p2 = Funcionario(\"Maria\",7000,\"Programadora\")\n",
        "\n",
        "p1.salario = 1500\n",
        "\n",
        "print(p1.salarioajustado())\n",
        "print(p2.salario)\n"
      ],
      "metadata": {
        "id": "Xtme0F2Ojo5P"
      },
      "execution_count": null,
      "outputs": []
    },
    {
      "cell_type": "markdown",
      "source": [
        "# Questão 04"
      ],
      "metadata": {
        "id": "8h6gmFSjpBzX"
      }
    },
    {
      "cell_type": "markdown",
      "source": [
        "4. Crie uma classe Pessoa, com nome, idade, peso e altura. Crie uma pessoa com\n",
        "os seguintes métodos e teste-os:\n",
        "a. envelhecer: aumenta a idade em 1\n",
        "b. crescer: aumenta a altura em 2\n",
        "c. engordar: aumenta o peso em 5\n",
        "d. emagrecer: diminui o peso em 5"
      ],
      "metadata": {
        "id": "zih-JgTFpEgw"
      }
    },
    {
      "cell_type": "code",
      "source": [
        "class Pessoa:\n",
        "  def __init__(self,nome,idade,peso,altura):\n",
        "    self.nome = nome\n",
        "    self.idade = idade\n",
        "    self.peso = peso\n",
        "    self.altura = altura\n",
        "\n",
        "  def envelhecer(self):\n",
        "    return self.idade + 1\n",
        "\n",
        "  def crescer(self):\n",
        "    return self.altura + 2\n",
        "\n",
        "  def engordar(self):\n",
        "    return self.peso + 5\n",
        "\n",
        "  def emagrecer(self):\n",
        "    return self.peso - 5\n",
        "\n",
        "p1 = Pessoa(\"Maria\",15,48,1.49)\n",
        "print(p1.envelhecer())"
      ],
      "metadata": {
        "id": "Z3UBu66SpRpB"
      },
      "execution_count": null,
      "outputs": []
    },
    {
      "cell_type": "markdown",
      "source": [
        "# Questão 05"
      ],
      "metadata": {
        "id": "qRKvnnqprWqQ"
      }
    },
    {
      "cell_type": "markdown",
      "source": [
        "5. Implemente uma classe chamada Carro com os seguintes atributos: consumo\n",
        "de combustível (medidos em km / litro) e quantidade de combustível no\n",
        "tanque. Crie os seguintes métodos:\n",
        "a. dirigir: simula o ato de dirigir o veículo por uma certa distância,\n",
        "reduzindo o nível de combustível no tanque de gasolina.\n",
        "b. adicionarCombustível: aumenta a quantidade de combustível no tanque."
      ],
      "metadata": {
        "id": "0ea7WTCyrbwT"
      }
    },
    {
      "cell_type": "code",
      "source": [
        "class Carro:\n",
        "  def __init__(self,consumo,qcombustivel):\n",
        "    self.consumo = consumo\n",
        "    self.qcombustivel = qcombustivel\n",
        "\n",
        "  def dirigir(self):\n",
        "    return self.qcombustivel - self.consumo\n",
        "\n",
        "  def adicionarcombustivel(self):\n",
        "    return self.qcombustivel +"
      ],
      "metadata": {
        "id": "zqxuAM_cre2Q"
      },
      "execution_count": null,
      "outputs": []
    }
  ]
}