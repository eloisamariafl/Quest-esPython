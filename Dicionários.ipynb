{
  "nbformat": 4,
  "nbformat_minor": 0,
  "metadata": {
    "colab": {
      "provenance": [],
      "toc_visible": true,
      "authorship_tag": "ABX9TyNQfJ1cdXXQKDVBnpxo9ox3",
      "include_colab_link": true
    },
    "kernelspec": {
      "name": "python3",
      "display_name": "Python 3"
    },
    "language_info": {
      "name": "python"
    }
  },
  "cells": [
    {
      "cell_type": "markdown",
      "metadata": {
        "id": "view-in-github",
        "colab_type": "text"
      },
      "source": [
        "<a href=\"https://colab.research.google.com/github/eloisamariafl/Quest-esPython/blob/main/Dicion%C3%A1rios.ipynb\" target=\"_parent\"><img src=\"https://colab.research.google.com/assets/colab-badge.svg\" alt=\"Open In Colab\"/></a>"
      ]
    },
    {
      "cell_type": "markdown",
      "source": [
        "# Questão 01"
      ],
      "metadata": {
        "id": "OpSKIbwiRb1a"
      }
    },
    {
      "cell_type": "markdown",
      "source": [
        "1. Solicite ao usuário as informações de uma empresa (nome, setor, cnpj e data\n",
        "de inauguração). Construa um dicionário com base nas informações passadas."
      ],
      "metadata": {
        "id": "3pqXQBSIRfIh"
      }
    },
    {
      "cell_type": "code",
      "source": [
        "empresa = {}\n",
        "nome = input(\"Informe o nome da empresa:\")\n",
        "setor = input(\"Informe o sentor da empresa:\")\n",
        "cnpj  = input(\"Informe o cnpj da empresa:\")\n",
        "data = input(\"Informe a data de inauguração da empresa:\")\n",
        "\n",
        "\n",
        "empresa[nome] =  \"Nome\"\n",
        "empresa[setor] = \"Setor\"\n",
        "empresa[cnpj] = \"Cnpj\"\n",
        "empresa[data] = \"Data de Inauguração\"\n"
      ],
      "metadata": {
        "id": "rvezdmzIRh7h"
      },
      "execution_count": null,
      "outputs": []
    },
    {
      "cell_type": "markdown",
      "source": [
        "# Questão 02"
      ],
      "metadata": {
        "id": "QG_A-YKLS7eT"
      }
    },
    {
      "cell_type": "markdown",
      "source": [
        "2. Crie um programa que cadastre um cliente de uma loja em um dicionário, com\n",
        "as seguintes informações passadas pelo usuário: nome, endereço e telefone."
      ],
      "metadata": {
        "id": "c5rGxfn-S-Uz"
      }
    },
    {
      "cell_type": "code",
      "source": [
        "cliente = {}\n",
        "nome = input(\"Informe seu nome:\")\n",
        "endereço = input(\"Informe seu endereço:\")\n",
        "telefone = input(\"Informe seu telefone:\")\n",
        "\n",
        "cliente[nome] = \"Nome\"\n",
        "cliente[endereço] = \"Endereço\"\n",
        "cliente[telefone] = \"Telefone\""
      ],
      "metadata": {
        "id": "HI2BXaKPTBjL"
      },
      "execution_count": null,
      "outputs": []
    },
    {
      "cell_type": "markdown",
      "source": [
        "# Questão 03"
      ],
      "metadata": {
        "id": "ija07k78Vepv"
      }
    },
    {
      "cell_type": "markdown",
      "source": [
        "Crie um dicionário em Python que represente um dicionário da letra R:\n",
        "\n",
        "a. Solicite ao usuário uma nova palavra e o seu respectivo significado.\n",
        "Adicione a nova palavra e o seu significado ao dicionário.\n",
        "b. Imprima na tela todas as palavras do dicionário, e seus respectivos\n",
        "significados, em linhas separadas.\n",
        "c. Solicite ao usuário uma palavra do dicionário criado, e exiba o seu\n",
        "respectivo significado. Caso a palavra não seja encontrada, exiba uma\n",
        "mensagem de erro para o usuário."
      ],
      "metadata": {
        "id": "NK_1IbG6Vhdu"
      }
    },
    {
      "cell_type": "code",
      "source": [
        "dicionário = {\n",
        "    \"Ratificar\":\"Confirmar,Validar\",\n",
        "    \"Retificar\":\"Corrigir,Consertar\",\n",
        "    \"Roer\":\"Cortar aos poucos\",\n",
        "    \"Rotina\":\"Hábiro,Costume\",\n",
        "    \"Rural\":\"Agrícola,Campestre\"\n",
        "}\n",
        "\n",
        "\n",
        "nvpalavra = input(\"Informe uma nova palavra que representa um dicionário da letra R:\")\n",
        "significado = input(\"Informe o seu respectivo significado:\")\n",
        "\n",
        "dicionário[nvpalavra] = significado\n",
        "\n",
        "for chave in dicionário:\n",
        "  print(chave)\n",
        "\n",
        "solicitar = input(\"Informe uma palavra do dicionário:\")\n",
        "\n",
        "if solicitar in dicionário:\n",
        "  print(dicionário[solicitar])\n",
        "else:\n",
        "  print(\"ERRO\")\n"
      ],
      "metadata": {
        "id": "OoEHdQ1ZVk5y",
        "colab": {
          "base_uri": "https://localhost:8080/"
        },
        "outputId": "7c04541b-2dec-41ae-8b7e-cbc2282c9b51"
      },
      "execution_count": null,
      "outputs": [
        {
          "output_type": "stream",
          "name": "stdout",
          "text": [
            "Informe uma nova palavra que representa um dicionário da letra R:Remover\n",
            "Informe o seu respectivo significado:Tirar, deslocar\n",
            "Ratificar\n",
            "Retificar\n",
            "Roer\n",
            "Rotina\n",
            "Rural\n",
            "Remover\n",
            "Informe uma palavra do dicionário:Remover\n",
            "Tirar, deslocar\n"
          ]
        }
      ]
    },
    {
      "cell_type": "markdown",
      "source": [
        "# Questão 04"
      ],
      "metadata": {
        "id": "BDOzuD3UXqLJ"
      }
    },
    {
      "cell_type": "markdown",
      "source": [
        "4. Crie um dicionário que represente um funcionário, com as seguintes\n",
        "informações: nome -> Josiberto, idade -> 20, salário -> 2000, cpf -> 4896129.\n",
        "a. Solicite ao usuário o endereço do funcionário, e adicione ao dicionário.\n",
        "b. Solicite ao usuário o novo salário do funcionário, e atualize o dicionário.\n",
        "c. Remova a informação de cpf do funcionário.\n",
        "d. Exiba na tela o nome e a idade do funcionário.\n",
        "e. Exiba na tela todos os dados do funcionário (utilizando uma repetição)."
      ],
      "metadata": {
        "id": "5rlKQ0UrXtey"
      }
    },
    {
      "cell_type": "code",
      "source": [
        "funcionário = {\n",
        "  \"nome\":\"Josiberto\",\n",
        "  \"idade\":\"20\",\n",
        "  \"salário\":\"2000\",\n",
        "  \"cpf\":\"4896129\"\n",
        "}\n",
        "\n",
        "\n",
        "endereço = input(\"Informe seu endereço:\")\n",
        "funcionário[endereço] = \"Endereço\"\n",
        "\n",
        "\n",
        "salário = input(\"Informe seu novo salário:\")\n",
        "funcionário[salário] = \"salário\"\n",
        "\n",
        "\n",
        "print(funcionário[\"nome\"])\n",
        "print(funcionário[\"idade\" ])\n",
        "\n",
        "for valor in funcionário:\n",
        "  print(valor)\n",
        "\n"
      ],
      "metadata": {
        "id": "86cKzWYeYQ-h"
      },
      "execution_count": null,
      "outputs": []
    },
    {
      "cell_type": "markdown",
      "source": [
        "# Questão 05"
      ],
      "metadata": {
        "id": "o5VyPEJUhPTB"
      }
    },
    {
      "cell_type": "markdown",
      "source": [
        "5. Faça um programa que crie uma lista de compras com 5 itens diferentes, onde\n",
        "cada item é um dicionário contendo a descrição e preço do produto. Depois\n",
        "disso, percorra a lista e exiba as informações de cada item."
      ],
      "metadata": {
        "id": "ADMPfGaShR_5"
      }
    },
    {
      "cell_type": "code",
      "source": [
        "lista = {\n",
        "\n",
        "  \"item 1\" : {\n",
        "      \"descrição\":\"Bolacha Maria Vitamassa \",\n",
        "      \"preço\":4.99\n",
        "  },\n",
        "\n",
        "  \"item 2\" : {\n",
        "      \"descrição\":\"Pão Integral Ballduco\",\n",
        "      \"preço\":9.99\n",
        "  },\n",
        "\n",
        "  \"item 3\" : {\n",
        "      \"descrição\":\"Desodorante Dove\",\n",
        "      \"preço\":12.99\n",
        "  },\n",
        "\n",
        "  \"item 4\" : {\n",
        "      \"descrição\":\"Amaciante Downy\",\n",
        "      \"preço\":9.99\n",
        "  },\n",
        "\n",
        "  \"item 5\" : {\n",
        "      \"descrição\":\"Miojo Galinha Caipira\",\n",
        "      \"preço\":1.99\n",
        "  }\n",
        "}\n",
        "\n",
        "\n",
        "\n"
      ],
      "metadata": {
        "colab": {
          "base_uri": "https://localhost:8080/"
        },
        "id": "mvRIwM6ChdrY",
        "outputId": "e94df83e-2fb8-4a09-e407-de3514bc0743"
      },
      "execution_count": null,
      "outputs": [
        {
          "output_type": "stream",
          "name": "stdout",
          "text": [
            "{'item 1': {'descrição': 'Bolacha Maria Vitamassa ', 'preço': 4.99}, 'item 2': {'descrição': 'Pão Integral Ballduco', 'preço': 9.99}, 'item 3': {'descrição': 'Desodorante Dove', 'preço': 12.99}, 'item 4': {'descrição': 'Amaciante Downy', 'preço': 9.99}, 'item 5': {'descrição': 'Miojo Galinha Caipira', 'preço': 1.99}}\n"
          ]
        }
      ]
    },
    {
      "cell_type": "markdown",
      "source": [
        "# Questão 06"
      ],
      "metadata": {
        "id": "xKF1xmWAkI1R"
      }
    },
    {
      "cell_type": "markdown",
      "source": [
        "6. Solicite ao usuário as seguintes informações, referentes a uma consulta\n",
        "médica: nome do paciente, nome do médico, data da consulta e valor da\n",
        "consulta. Crie um dicionário que represente a consulta, e exiba os dados do\n",
        "dicionário (em linhas separadas)."
      ],
      "metadata": {
        "id": "JIbAalJykL1E"
      }
    },
    {
      "cell_type": "code",
      "source": [
        "consulta = {}\n",
        "\n",
        "nome = input(\"Informe o nome do paciente:\")\n",
        "médico = input(\"Informe o nome do médico:\")\n",
        "data = input(\"Informe a data da consulta:\")\n",
        "valor = input(\"Informe o valor  da consulta:\")\n",
        "\n",
        "consulta[\"Paciente\"] = nome\n",
        "consulta[\"Médico\"] = médico\n",
        "consulta[\"Data\"] = data\n",
        "consulta[\"Valor\"] = valor\n",
        "\n",
        "print(consulta)"
      ],
      "metadata": {
        "colab": {
          "base_uri": "https://localhost:8080/"
        },
        "id": "jy0yNOxAkYmS",
        "outputId": "3d9b31dd-ddf8-443b-e4f6-10b8ecee1a00"
      },
      "execution_count": null,
      "outputs": [
        {
          "output_type": "stream",
          "name": "stdout",
          "text": [
            "Informe o nome do paciente:Maria Eloisa\n",
            "Informe o nome do médico:Dr. Braz\n",
            "Informe a data da consulta:12/11\n",
            "Informe o valor  da consulta:200\n",
            "{'Paciente': 'Maria Eloisa', 'Médico': 'Dr. Braz', 'Data': '12/11', 'Valor': '200'}\n"
          ]
        }
      ]
    },
    {
      "cell_type": "markdown",
      "source": [
        "#Questão 07"
      ],
      "metadata": {
        "id": "mWwXYCwAmnbh"
      }
    },
    {
      "cell_type": "markdown",
      "source": [
        "7. Considere uma aplicação para uma agenda telefônica:\n",
        "\n",
        "a. Crie um dicionário que represente a agenda telefônica acima.\n",
        "b. Crie uma função chamada exibir, que recebe como parâmetro o nome\n",
        "de um contato da agenda, e exibe na tela o telefone dele.\n",
        "c. Crie uma função chamada listar, que exibirá na tela todos os contatos e\n",
        "os seus respectivos telefones, em linhas separadas.\n",
        "d. Crie uma função chamada adicionar, que receba como parâmetros o\n",
        "nome do contato e o número do telefone, e adicione-o ao dicionário.\n",
        "Caso o contato já exista, o número será atualizado.\n",
        "e. Crie uma função chamada remover, que recebe como parâmetro o nome\n",
        "de um contato da agenda, e o remove. Caso o contato"
      ],
      "metadata": {
        "id": "TM78GkQ3mq5T"
      }
    },
    {
      "cell_type": "code",
      "source": [
        "agenda = {\n",
        "    \"Rafael\":\"(87) 99147-8812\",\n",
        "    \"José\":\"(87) 98122-3201\",\n",
        "    \"Maria\":\"(87) 99912-9233\",\n",
        "    \"Godofredo\":\"(87) 98181-7390\",\n",
        "    \"Jessicleide\":\"(87) 99210-6521\"\n",
        "}\n",
        "\n",
        "def exibir(nome):\n",
        "  nome = input(\"Informe um nome de contato da agenda:\")\n",
        "  if nome in agenda:\n",
        "    print(agenda[nome])\n",
        "  else:\n",
        "    print(\"False\")\n",
        "\n",
        "def listar():\n",
        "  for chave in agenda:\n",
        "    print(chave,agenda[chave])\n",
        "\n",
        "\n",
        "def adicionar(nome,contato):\n",
        "  nome = input(\"Informe o nome do contato:\")\n",
        "  contato = input(\"Informe o número da pessoa:\")\n",
        "\n",
        "  agenda[nome] = contato\n",
        "\n",
        "def remover(nome):\n",
        "  nome = input(\"Informe o nome do contato que deseja remover:\")\n",
        "  if nome in agenda:\n",
        "    agenda.pop(nome)\n",
        "    return True\n",
        "  else:\n",
        "    return False\n"
      ],
      "metadata": {
        "id": "hbqDVAQXmtl5"
      },
      "execution_count": null,
      "outputs": []
    },
    {
      "cell_type": "markdown",
      "source": [
        "#Questão 08"
      ],
      "metadata": {
        "id": "QvDv5OchvTIb"
      }
    },
    {
      "cell_type": "markdown",
      "source": [
        "8. Considere um sistema para um cadastro de produtos:\n",
        "a. Crie um vetor vazio chamado de produtos.\n",
        "b. Crie uma função chamada adicionar, que receba como parâmetros o\n",
        "nome, preço e data de fabricação de um produto, crie um dicionário a\n",
        "partir destas informações, e adicione-o ao vetor de produtos.\n",
        "c. Crie uma função chamada listar, que irá exibir na tela os dados de todos\n",
        "os produtos, um abaixo do outro.\n",
        "d. Crie uma função chamada remover, que irá receber como parâmetro o\n",
        "nome do produto, e o removerá do vetor."
      ],
      "metadata": {
        "id": "iAUGLVULvW6q"
      }
    },
    {
      "cell_type": "code",
      "source": [
        "produtos = []\n",
        "sistema = {}\n",
        "\n",
        "def adicionar(nome,preco,data):\n",
        "  nome = input(\"Informe o nome do produto:\")\n",
        "  preco = input(\"Informe o preço do produto:\")\n",
        "  data = input(\"Informe a data de fabricação do produto:\")\n",
        "\n",
        "  sistema[nome] = \"Nome\"\n",
        "  sistema[preco] = \"Preço\"\n",
        "  sistema[data] = \"Data de fabricação\"\n",
        "\n",
        "  produtos.append(nome)\n",
        "  produtos.append(preco)\n",
        "  produtos.append(data)\n",
        "\n",
        "def listar():\n",
        "  for chave in sistema:\n",
        "    print(chave,sistema[chave])\n",
        "\n",
        "def remover(nome):\n",
        "    nome = input(\"Informe o nome do produto que deseja remover:\")\n",
        "    if nome in sistema:\n",
        "        del sistema[nome]\n",
        "        produtos.remove(nome)\n",
        "        return True\n",
        "    else:\n",
        "        return False\n",
        "\n"
      ],
      "metadata": {
        "id": "pt1BfMtpvZLp"
      },
      "execution_count": null,
      "outputs": []
    }
  ]
}