{
  "cells": [
    {
      "cell_type": "markdown",
      "metadata": {
        "id": "view-in-github",
        "colab_type": "text"
      },
      "source": [
        "<a href=\"https://colab.research.google.com/github/eloisamariafl/Quest-esPython/blob/main/Matrizes.ipynb\" target=\"_parent\"><img src=\"https://colab.research.google.com/assets/colab-badge.svg\" alt=\"Open In Colab\"/></a>"
      ]
    },
    {
      "cell_type": "markdown",
      "metadata": {
        "id": "2WjIwn6xZ6pf"
      },
      "source": [
        "Matrizes:"
      ]
    },
    {
      "cell_type": "markdown",
      "metadata": {
        "id": "Q0vG7GwqaDiY"
      },
      "source": [
        "1) Exiba uma matriz utilizando os valores e formato abaixo:\n",
        "\n",
        "9 7 1\n",
        "8 3 4\n",
        "6 5 2"
      ]
    },
    {
      "cell_type": "code",
      "execution_count": null,
      "metadata": {
        "colab": {
          "base_uri": "https://localhost:8080/"
        },
        "id": "nPB1saomaGSf",
        "outputId": "a9a94694-5fda-4e6b-ff25-ed495aed2c59"
      },
      "outputs": [
        {
          "name": "stdout",
          "output_type": "stream",
          "text": [
            "9 7 1 \n",
            "8 3 4 \n",
            "6 5 2 \n"
          ]
        }
      ],
      "source": [
        "matriz = [[9,7,1], [8,3,4],[6,5,2]]\n",
        "for linha in range(3):\n",
        "  for coluna in range(3):\n",
        "    print(matriz[linha][coluna], end = ' ')\n",
        "  print()"
      ]
    },
    {
      "cell_type": "markdown",
      "metadata": {
        "id": "Ivpt6sWybAvR"
      },
      "source": [
        "2) Crie um algoritmo que solicita números ao usuário, e preencha uma\n",
        "matriz 3x3."
      ]
    },
    {
      "cell_type": "code",
      "execution_count": null,
      "metadata": {
        "id": "8HpCQsBhbEFv"
      },
      "outputs": [],
      "source": [
        "matriz = []\n",
        "for linha in range(3):\n",
        "  vetor = []\n",
        "  for coluna in range(3):\n",
        "     valor = int(input(\"Digite um valor:\"))\n",
        "     vetor.append(valor)\n",
        "  matriz.append(vetor)"
      ]
    },
    {
      "cell_type": "markdown",
      "metadata": {
        "id": "-17pMpAgbNvf"
      },
      "source": [
        "3) Escrever um algoritmo para solicitar valores inteiros e inserir em uma\n",
        "matriz 2x3. Calcular e imprimir a média dos valores contidos na matriz."
      ]
    },
    {
      "cell_type": "code",
      "execution_count": null,
      "metadata": {
        "colab": {
          "background_save": true,
          "base_uri": "https://localhost:8080/"
        },
        "id": "5S-QPRoDbQin",
        "outputId": "ba4f2798-7cf3-42ac-ac83-0e1d235088f4"
      },
      "outputs": [
        {
          "name": "stdout",
          "output_type": "stream",
          "text": [
            "Média: 2.3333333333333335\n"
          ]
        }
      ],
      "source": [
        "acumulador = 0\n",
        "matriz = []\n",
        "for linha in range(2):\n",
        "  vetor = []\n",
        "  for coluna in range(3):\n",
        "     valor = int(input(\"Digite um valor:\"))\n",
        "     acumulador = acumulador + valor\n",
        "     vetor.append(valor)\n",
        "  matriz.append(vetor)\n",
        "  media = valor/3\n",
        "  print(F\"Média: {media}\")\n"
      ]
    },
    {
      "cell_type": "markdown",
      "metadata": {
        "id": "zteC6dckdUdM"
      },
      "source": [
        "4) Solicite ao usuário o nome e idade de 5 pessoas, organizando as\n",
        "informações em uma matriz."
      ]
    },
    {
      "cell_type": "code",
      "execution_count": null,
      "metadata": {
        "id": "ToH7I5hOdZyM"
      },
      "outputs": [],
      "source": [
        "matriz = []\n",
        "for linha in range(1,5,1):\n",
        "  vetor = []\n",
        "  nm = str(input(\"Informe o nome:\"))\n",
        "  vetor.append(nm)\n",
        "  for coluna in range(1):\n",
        "    id = int(input(\"Informe a idade:\"))\n",
        "    vetor.append(id)\n",
        "  matriz.append(vetor)\n"
      ]
    },
    {
      "cell_type": "markdown",
      "metadata": {
        "id": "J6-Yc0LLdvKo"
      },
      "source": [
        "5) Imprima em forma de matriz preenchido com 0 de acordo com as\n",
        "dimensões passadas pelo usuário (linhas x colunas). Exemplo:\n",
        "Digite quantas linhas na matriz: 3\n",
        "Digite quantas colunas na matriz: 4\n",
        "0 0 0 0\n",
        "0 0 0 0\n",
        "0 0 0 0"
      ]
    },
    {
      "cell_type": "code",
      "execution_count": null,
      "metadata": {
        "id": "lVPxA4L-guIN"
      },
      "outputs": [],
      "source": [
        "matriz = []\n",
        "ln = str(input(\"Digite o número de linhas desejadas:\"))\n",
        "for linha in range(ln):\n",
        "  cl = str(input(\"Digite o número de colunas desejadas:\"))\n",
        "  for coluna in range(cl):\n",
        "    vetor = []\n",
        "    vetor.append(0)\n",
        "  matriz.append(vetor)\n",
        "for linha in range(ln):\n",
        "  for coluna in range(cl):\n",
        "      print(matriz[linha][coluna], end = ' ')\n",
        "  print()"
      ]
    },
    {
      "cell_type": "markdown",
      "metadata": {
        "id": "U9oE5P0ufnwt"
      },
      "source": [
        "6) Solicite ao usuário as dimensões de uma matriz (linhas e colunas), e\n",
        "monte uma matriz preenchidas com números crescentes, começando\n",
        "em 1. Exiba a matriz montada para o usuário. Exemplo:\n",
        "Digite quantas linhas na matriz: 3\n",
        "Digite quantas colunas na matriz: 2\n",
        "1 2\n",
        "3 4\n",
        "5 6"
      ]
    },
    {
      "cell_type": "code",
      "execution_count": null,
      "metadata": {
        "id": "CW5DLNqWfojc"
      },
      "outputs": [],
      "source": [
        "+matriz = []\n",
        "i = 0\n",
        "ln = str(input(\"Digite o número de linhas desejadas:\"))\n",
        "for linha in range(ln):\n",
        "  cl = str(input(\"Digite o número de colunas desejadas:\"))\n",
        "  for coluna in range(cl):\n",
        "    vetor = []\n",
        "    i+=1\n",
        "    vetor.append(i)\n",
        "    matriz.append(vetor)\n",
        "for linha in range(ln):\n",
        "    for coluna in range(cl):\n",
        "      print(matriz[linha][coluna], end = ' ')\n",
        "    print()\n"
      ]
    },
    {
      "cell_type": "markdown",
      "metadata": {
        "id": "tt5qBhFChdLA"
      },
      "source": [
        "7) Considerando uma turma com 3 alunos, e cada aluno com 5 notas,\n",
        "solicite as informações ao usuário, crie e preencha uma matriz."
      ]
    },
    {
      "cell_type": "code",
      "execution_count": null,
      "metadata": {
        "id": "r6AArxhMhiT9"
      },
      "outputs": [],
      "source": [
        "matriz = []\n",
        "for linha in range(1,3,1):\n",
        "  vetor = []\n",
        "  nm = str(input(\"Informe o nome do aluno:\"))\n",
        "  vetor.append(nm)\n",
        "  for coluna in range(1,5,1):\n",
        "    id = int(input(\"informe a nota:\"))\n",
        "    vetor.append(id)\n",
        "  matriz.append(vetor)"
      ]
    }
  ],
  "metadata": {
    "colab": {
      "toc_visible": true,
      "provenance": [],
      "authorship_tag": "ABX9TyNk+8EFFkpOhqdyOLmQsp34",
      "include_colab_link": true
    },
    "kernelspec": {
      "display_name": "Python 3",
      "name": "python3"
    },
    "language_info": {
      "name": "python"
    }
  },
  "nbformat": 4,
  "nbformat_minor": 0
}